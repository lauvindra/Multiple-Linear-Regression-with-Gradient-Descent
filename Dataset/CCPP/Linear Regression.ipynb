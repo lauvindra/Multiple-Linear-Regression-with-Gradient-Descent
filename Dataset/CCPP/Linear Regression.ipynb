{
 "cells": [
  {
   "cell_type": "code",
   "execution_count": 1,
   "id": "c510d2f4",
   "metadata": {},
   "outputs": [],
   "source": [
    "import numpy as np\n",
    "import pandas as pd"
   ]
  },
  {
   "cell_type": "code",
   "execution_count": 2,
   "id": "1c448760",
   "metadata": {},
   "outputs": [
    {
     "data": {
      "text/plain": [
       "'/home/lauvindra/Linear Regression/Dataset/CCPP'"
      ]
     },
     "execution_count": 2,
     "metadata": {},
     "output_type": "execute_result"
    }
   ],
   "source": [
    "pwd"
   ]
  },
  {
   "cell_type": "code",
   "execution_count": 3,
   "id": "22ac492a",
   "metadata": {},
   "outputs": [],
   "source": [
    "dataset_path = './dataset_csv.csv'\n",
    "learning_rate = 0.00001\n",
    "num_epoch = 10000\n",
    "test_training_ratio = 0.2\n",
    "batch_size = 1000"
   ]
  },
  {
   "cell_type": "code",
   "execution_count": 4,
   "id": "6f86f69e",
   "metadata": {},
   "outputs": [
    {
     "data": {
      "text/html": [
       "<div>\n",
       "<style scoped>\n",
       "    .dataframe tbody tr th:only-of-type {\n",
       "        vertical-align: middle;\n",
       "    }\n",
       "\n",
       "    .dataframe tbody tr th {\n",
       "        vertical-align: top;\n",
       "    }\n",
       "\n",
       "    .dataframe thead th {\n",
       "        text-align: right;\n",
       "    }\n",
       "</style>\n",
       "<table border=\"1\" class=\"dataframe\">\n",
       "  <thead>\n",
       "    <tr style=\"text-align: right;\">\n",
       "      <th></th>\n",
       "      <th>AT</th>\n",
       "      <th>V</th>\n",
       "      <th>AP</th>\n",
       "      <th>RH</th>\n",
       "      <th>PE</th>\n",
       "    </tr>\n",
       "  </thead>\n",
       "  <tbody>\n",
       "    <tr>\n",
       "      <th>0</th>\n",
       "      <td>8.34</td>\n",
       "      <td>40.77</td>\n",
       "      <td>1010.84</td>\n",
       "      <td>90.01</td>\n",
       "      <td>480.48</td>\n",
       "    </tr>\n",
       "    <tr>\n",
       "      <th>1</th>\n",
       "      <td>23.64</td>\n",
       "      <td>58.49</td>\n",
       "      <td>1011.40</td>\n",
       "      <td>74.20</td>\n",
       "      <td>445.75</td>\n",
       "    </tr>\n",
       "    <tr>\n",
       "      <th>2</th>\n",
       "      <td>29.74</td>\n",
       "      <td>56.90</td>\n",
       "      <td>1007.15</td>\n",
       "      <td>41.91</td>\n",
       "      <td>438.76</td>\n",
       "    </tr>\n",
       "    <tr>\n",
       "      <th>3</th>\n",
       "      <td>19.07</td>\n",
       "      <td>49.69</td>\n",
       "      <td>1007.22</td>\n",
       "      <td>76.79</td>\n",
       "      <td>453.09</td>\n",
       "    </tr>\n",
       "    <tr>\n",
       "      <th>4</th>\n",
       "      <td>11.80</td>\n",
       "      <td>40.66</td>\n",
       "      <td>1017.13</td>\n",
       "      <td>97.20</td>\n",
       "      <td>464.43</td>\n",
       "    </tr>\n",
       "  </tbody>\n",
       "</table>\n",
       "</div>"
      ],
      "text/plain": [
       "      AT      V       AP     RH      PE\n",
       "0   8.34  40.77  1010.84  90.01  480.48\n",
       "1  23.64  58.49  1011.40  74.20  445.75\n",
       "2  29.74  56.90  1007.15  41.91  438.76\n",
       "3  19.07  49.69  1007.22  76.79  453.09\n",
       "4  11.80  40.66  1017.13  97.20  464.43"
      ]
     },
     "execution_count": 4,
     "metadata": {},
     "output_type": "execute_result"
    }
   ],
   "source": [
    "df = pd.read_csv(dataset_path)#Read the dataset\n",
    "df.head()"
   ]
  },
  {
   "cell_type": "code",
   "execution_count": 5,
   "id": "2a9cfa2c",
   "metadata": {},
   "outputs": [],
   "source": [
    "#For iloc we will get a tuple with [rows,columns]\n",
    "sum_X = df.iloc[:, :-1].values #To sort all the independant data\n",
    "sum_y = df.iloc[:, -1].values #To sort all the dependant data"
   ]
  },
  {
   "cell_type": "code",
   "execution_count": 6,
   "id": "a15438a5",
   "metadata": {},
   "outputs": [
    {
     "name": "stdout",
     "output_type": "stream",
     "text": [
      "[[1.00000e+00 8.34000e+00 4.07700e+01 1.01084e+03 9.00100e+01]\n",
      " [1.00000e+00 2.36400e+01 5.84900e+01 1.01140e+03 7.42000e+01]\n",
      " [1.00000e+00 2.97400e+01 5.69000e+01 1.00715e+03 4.19100e+01]\n",
      " [1.00000e+00 1.90700e+01 4.96900e+01 1.00722e+03 7.67900e+01]\n",
      " [1.00000e+00 1.18000e+01 4.06600e+01 1.01713e+03 9.72000e+01]]\n"
     ]
    }
   ],
   "source": [
    "#This is like the c in a linear equation\n",
    "b = np.ones((sum_X.shape[0], sum_X.shape[1]+1)) #We add another column \n",
    "b[:,1:] = sum_X #take all the values for rows and from index 1 in columns\n",
    "sum_X = b #reassign to make it easier to read\n",
    "print(sum_X[:5])"
   ]
  },
  {
   "cell_type": "code",
   "execution_count": 7,
   "id": "6a3e864a",
   "metadata": {},
   "outputs": [],
   "source": [
    "theta = np.random.rand(sum_X.shape[1]) #randomly assign a floating value to each independant data column"
   ]
  },
  {
   "cell_type": "code",
   "execution_count": 8,
   "id": "090c2ef7",
   "metadata": {},
   "outputs": [
    {
     "data": {
      "text/plain": [
       "array([0.69240606, 0.66960445, 0.45403194, 0.43345163, 0.64124311])"
      ]
     },
     "execution_count": 8,
     "metadata": {},
     "output_type": "execute_result"
    }
   ],
   "source": [
    "theta\n"
   ]
  },
  {
   "cell_type": "code",
   "execution_count": 9,
   "id": "b34adac2",
   "metadata": {},
   "outputs": [],
   "source": [
    "#For us to verify the accuracy we store 20% of the dataset,\n",
    "#We have 5 columns and 9568 columns\n",
    "num_of_testing_example = int(test_training_ratio*(sum_X.shape[0])) #0.2*9568 = 1913.6\n",
    "num_of_training_example = sum_X.shape[0] - num_of_testing_example # 9568 - 1913.6 = 7654.4\n",
    "\n",
    "X_train = sum_X[:num_of_training_example]\n",
    "y_train = sum_y[:num_of_training_example]\n",
    "\n",
    "X_test = sum_X[num_of_training_example:]\n",
    "y_test = sum_y[num_of_training_example:]"
   ]
  },
  {
   "cell_type": "code",
   "execution_count": 10,
   "id": "1724cc20",
   "metadata": {},
   "outputs": [
    {
     "name": "stdout",
     "output_type": "stream",
     "text": [
      "7655 9568\n"
     ]
    }
   ],
   "source": [
    "one = X_train.shape[0]\n",
    "two =  sum_X.shape[0]\n",
    "print(one, two)"
   ]
  },
  {
   "cell_type": "code",
   "execution_count": 11,
   "id": "bb965d64",
   "metadata": {},
   "outputs": [
    {
     "name": "stdout",
     "output_type": "stream",
     "text": [
      "The testing loss wwith MSE: 2715.487241375952\n"
     ]
    }
   ],
   "source": [
    "#For testing\n",
    "def testing_with_MSE():\n",
    "    diff = X_test.dot(theta) - y_test #h(θ) -y\n",
    "    \n",
    "    loss = (1/(2*X_test.shape[0]))*(diff.dot(diff))\n",
    "    \n",
    "    print(\"The testing loss wwith MSE:\", loss)\n",
    "    \n",
    "def testing_with_R2():\n",
    "    diff = X_test.dot(theta) - y_test \n",
    "    \n",
    "    \n",
    "testing_with_MSE()"
   ]
  },
  {
   "cell_type": "code",
   "execution_count": 12,
   "id": "aa4ef579",
   "metadata": {},
   "outputs": [
    {
     "name": "stdout",
     "output_type": "stream",
     "text": [
      "Epoch : 0\n",
      "Loss : 2206.666928439711\n",
      "Epoch : 1000\n",
      "Loss : 29.85939476952275\n",
      "Epoch : 2000\n",
      "Loss : 19.960052799406743\n",
      "Epoch : 3000\n",
      "Loss : 17.93649475371581\n",
      "Epoch : 4000\n",
      "Loss : 16.648727796502296\n",
      "Epoch : 5000\n",
      "Loss : 15.600155099391449\n",
      "Epoch : 6000\n",
      "Loss : 14.726658302554402\n",
      "Epoch : 7000\n",
      "Loss : 13.997720050286885\n",
      "Epoch : 8000\n",
      "Loss : 13.38933938084402\n",
      "Epoch : 9000\n",
      "Loss : 12.881569408058231\n"
     ]
    }
   ],
   "source": [
    "#to turn our training\n",
    "for epoch in range(num_epoch):\n",
    "    \n",
    "    Y_diff = X_train.dot(theta) - y_train \n",
    "    \n",
    "    loss = (1/(2*sum_X.shape[0]))*(Y_diff.dot(Y_diff)) #calculate loss function\n",
    "    \n",
    "    #Train by batch 1000\n",
    "    for first_index in range(0, sum_X.shape[0],batch_size):\n",
    "        last_index = first_index + batch_size #To assign last value of the index\n",
    "        last_index = None if last_index > X_train.shape[0] else last_index #if last index is > total number of data points, it will set to none\n",
    "        \n",
    "        y_hat = X_train[first_index:last_index].dot(theta)#predicted output\n",
    "        y_hat_diff = y_hat - y_train[first_index:last_index]\n",
    "        \n",
    "        m = 1/y_train.shape[0] #number of data points\n",
    "        \n",
    "        for i in range(theta.shape[0]):\n",
    "            x_j = X_train[first_index:last_index,i]#get x_j vector for the specified batch size\n",
    "            \n",
    "            par_der = m*y_hat_diff.dot(X_train[first_index:last_index,i]) \n",
    "            \n",
    "            theta[i] = theta[i] - learning_rate*par_der\n",
    "    \n",
    "    if epoch % 1000 == 0:\n",
    "        print(\"Epoch :\", epoch)\n",
    "        print(\"Loss :\",loss)\n",
    "        "
   ]
  },
  {
   "cell_type": "code",
   "execution_count": 13,
   "id": "0365216d",
   "metadata": {},
   "outputs": [
    {
     "name": "stdout",
     "output_type": "stream",
     "text": [
      "[ 0.69243622 -0.98250991 -0.59645054  0.49846015  0.00554135]\n"
     ]
    }
   ],
   "source": [
    "print(theta)"
   ]
  },
  {
   "cell_type": "code",
   "execution_count": 15,
   "id": "42dd4a6f",
   "metadata": {},
   "outputs": [
    {
     "name": "stdout",
     "output_type": "stream",
     "text": [
      "The testing loss wwith MSE: 15.185355992118131\n"
     ]
    }
   ],
   "source": [
    "testing_with_MSE()"
   ]
  },
  {
   "cell_type": "code",
   "execution_count": null,
   "id": "48919907",
   "metadata": {},
   "outputs": [],
   "source": []
  }
 ],
 "metadata": {
  "kernelspec": {
   "display_name": "Python 3",
   "language": "python",
   "name": "python3"
  },
  "language_info": {
   "codemirror_mode": {
    "name": "ipython",
    "version": 3
   },
   "file_extension": ".py",
   "mimetype": "text/x-python",
   "name": "python",
   "nbconvert_exporter": "python",
   "pygments_lexer": "ipython3",
   "version": "3.9.4"
  }
 },
 "nbformat": 4,
 "nbformat_minor": 5
}
